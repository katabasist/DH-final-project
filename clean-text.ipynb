{
 "cells": [
  {
   "cell_type": "code",
   "execution_count": 2,
   "id": "59769318",
   "metadata": {},
   "outputs": [
    {
     "name": "stdout",
     "output_type": "stream",
     "text": [
      "\n",
      "All cleaned scripts saved to: cleaned-scripts/\n"
     ]
    }
   ],
   "source": [
    "import os\n",
    "import re\n",
    "\n",
    "# ========================\n",
    "# 1. SETUP PATHS\n",
    "# ========================\n",
    "input_folder = \"episode-scripts\"       # Folder with raw .txt files\n",
    "output_folder = \"cleaned-scripts\"  # Output for cleaned scripts\n",
    "\n",
    "\n",
    "# ========================\n",
    "# 2. CLEANING FUNCTIONS\n",
    "# ========================\n",
    "def clean_script(text):\n",
    "    \"\"\"Remove all non-dialogue elements from screenplay text\"\"\"\n",
    "    # Remove scene headings (e.g., \"INT. GREAT NORTHERN - NIGHT\")\n",
    "    text = re.sub(r'^(INT\\.|EXT\\.|\\.{3}).*$', '', text, flags=re.MULTILINE)\n",
    "    # Remove camera/action directions (all caps lines)\n",
    "    text = re.sub(r'^[A-Z][A-Z\\s]+$', '', text, flags=re.MULTILINE)\n",
    "    # Remove parentheticals (e.g., \"(sighs)\")\n",
    "    text = re.sub(r'\\(.*?\\)', '', text)\n",
    "    # Remove transitions (e.g., \"CUT TO:\", \"FADE OUT.\")\n",
    "    text = re.sub(r'^(CUT TO|FADE|DISSOLVE).*$', '', text, flags=re.MULTILINE | re.IGNORECASE)\n",
    "    # Remove page numbers (e.g., \"2.\" at start of line)\n",
    "    text = re.sub(r'^\\d+\\.?\\s*$', '', text, flags=re.MULTILINE)\n",
    "    # Collapse multiple newlines\n",
    "    text = re.sub(r'\\n\\s*\\n', '\\n\\n', text)\n",
    "    return text.strip()\n",
    "\n",
    "# ========================\n",
    "# 3. PROCESS ALL FILES\n",
    "# ========================\n",
    "for filename in os.listdir(input_folder):\n",
    "    if not filename.endswith(\".txt\"):\n",
    "        continue\n",
    "\n",
    "    # Read raw text\n",
    "    with open(os.path.join(input_folder, filename), 'r', encoding='utf-8') as f:\n",
    "        raw_text = f.read()\n",
    "\n",
    "    # Clean text\n",
    "    cleaned_text = clean_script(raw_text)\n",
    "\n",
    "    # Save cleaned version\n",
    "    output_path = os.path.join(output_folder, f\"cleaned_{filename}\")\n",
    "    with open(output_path, 'w', encoding='utf-8') as f:\n",
    "        f.write(cleaned_text)\n",
    "\n",
    "    print(f\"Cleaned: {filename} → {output_path}\")\n",
    "\n",
    "print(f\"\\nAll cleaned scripts saved to: {output_folder}/\")"
   ]
  }
 ],
 "metadata": {
  "kernelspec": {
   "display_name": "Python 3",
   "language": "python",
   "name": "python3"
  },
  "language_info": {
   "codemirror_mode": {
    "name": "ipython",
    "version": 3
   },
   "file_extension": ".py",
   "mimetype": "text/x-python",
   "name": "python",
   "nbconvert_exporter": "python",
   "pygments_lexer": "ipython3",
   "version": "3.12.1"
  }
 },
 "nbformat": 4,
 "nbformat_minor": 5
}
